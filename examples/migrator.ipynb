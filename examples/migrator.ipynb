{
 "cells": [
  {
   "cell_type": "code",
   "execution_count": 1,
   "metadata": {},
   "outputs": [],
   "source": [
    "from the_project_tracker.core.migrator import AbstractMigrator\n",
    "\n",
    "\n",
    "class OpenAIMigrator(AbstractMigrator):\n",
    "    def migrate_to_latest(self, code_file: str, **kwargs) -> str:\n",
    "        last_tag_name = self._retrieve_latest_version()\n",
    "\n",
    "        from openai import OpenAI\n",
    "        client = OpenAI()\n",
    "        response = client.chat.completions.create(\n",
    "          model=\"gpt-3.5-turbo-1106\",\n",
    "          response_format={ \"type\": \"python_file\" },\n",
    "          messages=[\n",
    "            {\"role\": \"system\", \"content\": \"You are a expert Python code migrator .\"},\n",
    "            {\"role\": \"user\", \"content\": \"Who won the world series in 2020?\"}\n",
    "          ]\n",
    "        )"
   ]
  },
  {
   "cell_type": "code",
   "execution_count": 2,
   "metadata": {},
   "outputs": [
    {
     "data": {
      "text/html": [
       "<div>\n",
       "<style scoped>\n",
       "    .dataframe tbody tr th:only-of-type {\n",
       "        vertical-align: middle;\n",
       "    }\n",
       "\n",
       "    .dataframe tbody tr th {\n",
       "        vertical-align: top;\n",
       "    }\n",
       "\n",
       "    .dataframe thead th {\n",
       "        text-align: right;\n",
       "    }\n",
       "</style>\n",
       "<table border=\"1\" class=\"dataframe\">\n",
       "  <thead>\n",
       "    <tr style=\"text-align: right;\">\n",
       "      <th></th>\n",
       "      <th>tag_name</th>\n",
       "    </tr>\n",
       "  </thead>\n",
       "  <tbody>\n",
       "    <tr>\n",
       "      <th>0</th>\n",
       "      <td>py-0.19.12-rc.1</td>\n",
       "    </tr>\n",
       "  </tbody>\n",
       "</table>\n",
       "</div>"
      ],
      "text/plain": [
       "          tag_name\n",
       "0  py-0.19.12-rc.1"
      ]
     },
     "execution_count": 2,
     "metadata": {},
     "output_type": "execute_result"
    }
   ],
   "source": [
    "from the_project_tracker.core.migrator import CodeSpecs\n",
    "\n",
    "\n",
    "migrator = OpenAIMigrator(specs=CodeSpecs(module_name=\"polars\"))\n",
    "migrator._retrieve_latest_version()"
   ]
  },
  {
   "cell_type": "code",
   "execution_count": 11,
   "metadata": {},
   "outputs": [
    {
     "data": {
      "text/plain": [
       "{'py-0.19.13': \"urs, minutes, and microseconds) (#12191)\\r\\n\\r\\n## 📚 Documentation\\r\\n\\r\\n- Update documentation for `DataFrame.groupby` (#12334)\\r\\n- Improve documentation for `Series.value_counts` (#12277)\\r\\n\\r\\n## 🐞 Bug Fixes\\r\\n\\r\\n- Fix bug in `DataFrame.drop_duplicates` when subset contains NaNs (#12333)\\r\\n- Fix bug in `Series.resample` when using custom aggregation functions (#12225)\\r\\n\\r\\n## 🛠️ Maintenance\\r\\n\\r\\n- Update dependencies to latest versions (#12332)\\r\\n- Refactor code for better readability and maintainability (#12300)\\r\\n\\r\\nThis release of the 'polars' project includes several improvements, bug fixes, and maintenance updates. \\n\\nSome of the highlights include:\\n\\n- Improved join performance through radix partitioned join, which enhances the efficiency of the join operation (#12270).\\n\\nThere are also a few deprecations in this release:\\n\\n- The `write_csv` parameter `has_header` has been renamed to `include_header` (#12351).\\n- The `_saturating` feature in the duration string language has been deprecated and is now the default behavior (#12301).\\n- The arguments for `Decimal` have been switched, with the default `scale` set to 0 (#12224).\\n- The `dt.seconds` attribute has been renamed to `dt.total_seconds` for consistency with other time units (#12191).\\n\\nThe documentation has also been updated and improved:\\n\\n- The documentation for `DataFrame.groupby` has been updated (#12334\",\n",
       " 'py-0.19.13-rc.1': 'prove performance of `DataFrame.drop_duplicates` (#12107)\\n- Add `DataFrame.query` method (#12098)\\n- Add `kwargs` parameter to `Series.unique` method (#12097)\\n- Add `bool()` method to `Series` (#12096)\\n- Add `DataFrame.from_json` method (#12095)\\n- Add `DataFrame.to_latex` method (#12094)\\n\\n## 🐛 Bug Fixes\\n\\n- Fix `DataFrame.astype` with `CategoricalDtype` (#12157)\\n- Fix `DataFrame.groupby` with `sort=False` and `observed=True` (#12146)\\n- Fix `Series.plot.line` x-axis labeling (#12159)\\n- Fix `Series.str.extract` with `expand=False` and `match` (#12173)\\n- Fix `DataFrame.groupby` with `sort=False` and `observed=False` (#12174)\\n- Fix `Series.str.extract` with `expand=True` and `match` (#12175)\\n- Fix `Series.str.extract` with `expand=False` and `match` and `flags` (#12176)\\n- Fix `Series.str.extract` with `expand=True` and `match` and `flags` (#12177)\\n\\n## 📚 Documentation\\n\\n- Improve documentation for `DataFrame.from_dict` (#12179)\\n- Improve documentation for `DataFrame.to_dict` (#12180)\\n- Improve documentation for `DataFrame.plot` (#12181)\\n\\n## 🔧 Maintenance\\n\\n- Update dependencies (#121',\n",
       " 'py-0.19.12': \"ved performance of `Series.groupby` (#11991)\\n\\n## 🐛 Bug fixes\\n\\n- Fix `Series` slicing with non-ascending index (#12054)\\n- Fix `Series.between` with `inclusive` argument (#12001)\\n- Fix `DataFrame.to_dict` with `orient='index'` (#11992)\\n- Fix `DataFrame.melt` with `id_vars` containing duplicate columns (#11965)\\n\\n## ✨ Enhancements\\n\\n- Add `DataFrame.unstack` method (#12069)\\n- Add support for `Series` in `DataFrame.drop_duplicates` (#12040)\\n- Add `DataFrame.set_axis` method (#12037)\\n- Add `DataFrame.to_parquet` method (#11997)\\n\\n## 📚 Documentation\\n\\n- Update documentation for `DataFrame.to_csv` method (#12007)\\n- Improve documentation for `Series.between` method (#11983)\\n- Add examples to documentation for `DataFrame.rename` method (#11939)\\n\\n## 🔄 Miscellaneous\\n\\n- Update dependencies to latest versions (#12030)\\n- Refactor code for better readability and maintainability (#12023)\\n\\nThis release includes several deprecations, performance improvements, bug fixes, enhancements, documentation updates, and miscellaneous changes. Some notable changes include the deprecation of certain parameters and methods, improvements in parquet downloading and `Series.groupby` performance, bug fixes related to slicing, `between`, and `to_dict` methods, enhancements such as the addition of `unstack`, `drop_duplicates`,\",\n",
       " 'rs-0.34.0': \"In the 'polars' project, the release titled rs-0.34.0 includes several highlights, breaking changes, and performance improvements.\\n\\nHighlights:\\n- The release introduces postfix `rolling` expression as a special case of window functions.\\n- It also includes support for 'hive partitioning' aware readers.\\n\\nBreaking Changes:\\n- The release renames the `.list.lengths` and `.str.lengths` functionalities.\\n- The `write_csv` parameter `quote` is renamed to `quote_char`.\\n- Additionally, a new feature called `disable_string_cache` is added.\\n\\nPerformance Improvements:\\n- The release addresses a regression related to non-null values.\\n\\nUnfortunately, without access to the current repository, further details about the specific changes and their implications cannot be provided.\",\n",
       " 'py-0.19.12-rc.1': 'Based on the provided information, the release in the \\'polars\\' project with the title \"py-0.19.12-rc.1\" includes the following changes:\\n\\n⚠️ Deprecations:\\n- The function `shift_and_fill` has been deprecated in favor of `shift` (#11955).\\n- The parameters `clip_min` and `clip_max` have been deprecated in favor of the `clip` function (#11961).\\n\\n🚀 Performance improvements:\\n- A regression related to non-null asof join has been fixed (#11984).\\n- The performance of the `limit` function on async parquet datasets has been drastically improved (#11965).\\n\\n✨ Enhancements:\\n- The `asof_join` function has been optimized, and it now allows null and string keys (#11712).\\n- Concurrent downloads have been limited to improve efficiency.\\n\\nPlease note that this explanation is based on the given release information and does not include any additional details or context from the repository.'}"
      ]
     },
     "execution_count": 11,
     "metadata": {},
     "output_type": "execute_result"
    }
   ],
   "source": [
    "{row[0]: row[1] for _, row in migrator._retrieve_release_notes('py-0.19.13').iterrows()}"
   ]
  },
  {
   "cell_type": "code",
   "execution_count": null,
   "metadata": {},
   "outputs": [],
   "source": []
  }
 ],
 "metadata": {
  "kernelspec": {
   "display_name": ".venv",
   "language": "python",
   "name": "python3"
  },
  "language_info": {
   "codemirror_mode": {
    "name": "ipython",
    "version": 3
   },
   "file_extension": ".py",
   "mimetype": "text/x-python",
   "name": "python",
   "nbconvert_exporter": "python",
   "pygments_lexer": "ipython3",
   "version": "3.10.13"
  }
 },
 "nbformat": 4,
 "nbformat_minor": 2
}
