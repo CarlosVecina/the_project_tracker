{
 "cells": [
  {
   "cell_type": "code",
   "execution_count": 1,
   "metadata": {},
   "outputs": [],
   "source": [
    "from dotenv import load_dotenv\n",
    "from the_project_tracker.core.data_models import Documentation\n",
    "from the_project_tracker.db.pg_conn import PGDataConnection, SettingsSSH\n",
    "import polars as pl\n",
    "load_dotenv()\n",
    "\n",
    "db = PGDataConnection(ssh_config=SettingsSSH())"
   ]
  },
  {
   "cell_type": "code",
   "execution_count": 2,
   "metadata": {},
   "outputs": [
    {
     "data": {
      "text/plain": [
       "['polars.repeat#\\n\\n\\npolars.repeat(\\n\\nvalue: IntoExpr | None,\\nn: int | Expr,\\n*,\\ndtype: PolarsDataType | None = None,\\neager: Literal[False] = False,\\nname: str | None = None,\\n\\n) → Expr[source]#\\n\\npolars.repeat(\\n\\nvalue: IntoExpr | None,\\nn: int | Expr,\\n*,\\ndtype: PolarsDataType | None = None,\\neager: Literal[True],\\nname: str | None = None,\\n\\n) → Series\\n\\npolars.repeat(\\n\\nvalue: IntoExpr | None,\\nn: int | Expr,\\n*,\\ndtype: PolarsDataType | None = None,\\neager: bool,\\nname: str | None = None,\\n\\n) → Expr | Series\\nConstruct a column of length n filled with the given value.\\n\\n',\n",
       " ':\\n\\nvalueValue to repeat.\\n\\nnLength of the resulting column.\\n\\ndtypeData type of the resulting column. If set to None (default), data type is\\ninferred from the given value. Defaults to Int32 for integer values, unless\\nInt64 is required to fit the given value. Defaults to Float64 for float values.\\n\\neagerEvaluate immediately and return a Series. If set to False (default),\\nreturn an expression instead.\\n\\nnameName of the resulting column.\\n\\nDeprecated since version 0.17.15: This argument is deprecated. Use the alias method instead.\\n\\n\\n\\n\\n\\n\\nSee also\\n\\nlit\\n\\n\\nNotes\\nIf you want to construct a column in lazy mode and do not need a pre-determined\\nlength, use lit() instead.\\nExamples\\nConstruct a column with a repeated value in a lazy context.\\n>>> pl.select(pl.repeat(\"z\", n=3)).to_series()\\nshape: (3,)\\nSeries: \\'repeat\\' [str]\\n[\\n        \"z\"\\n        \"z\"\\n        \"z\"\\n]\\n\\n\\nGenerate a Series directly by setting eager=True.\\n>>> pl.repeat(3, n=3, dtype=pl.Int8, eager=True)\\nshape: (3,)\\nSeries: \\'repeat\\' [i8]\\n[\\n        3\\n        3\\n        3\\n]']"
      ]
     },
     "execution_count": 2,
     "metadata": {},
     "output_type": "execute_result"
    }
   ],
   "source": [
    "deprecate_warnings = pl.from_pandas(db.run_query(f\"SELECT * FROM {db.documentations_table} where doc_content like '%deprecat%' \"))\n",
    "deprecate_warnings['doc_content'][0].split(\"Parameters\")\n"
   ]
  },
  {
   "cell_type": "markdown",
   "metadata": {},
   "source": [
    "### Get Release Notes info. [Deprecations and breaking changes]"
   ]
  },
  {
   "cell_type": "code",
   "execution_count": 8,
   "metadata": {},
   "outputs": [],
   "source": [
    "base_version = '0.15.5'\n",
    "desired_version = '0.19.5'"
   ]
  },
  {
   "cell_type": "code",
   "execution_count": 9,
   "metadata": {},
   "outputs": [],
   "source": [
    "base_version_published_at = db.run_query(f\"SELECT published_at FROM {db.releases_table} where tag_name = 'py-{base_version}'\")\n",
    "desired_version_published_at = db.run_query(f\"SELECT published_at FROM {db.releases_table} where tag_name = 'py-{desired_version}'\")\n",
    "\n",
    "if len(desired_version_published_at['published_at']) == 0:\n",
    "    raise Exception(\"Not tracked desired version\")\n",
    "\n",
    "\n",
    "base_query = f\"SELECT * FROM {db.releases_table} where repo_url = 'https://github.com/pola-rs/polars' and name ilike 'Python%' and published_at <= '{desired_version_published_at['published_at'][0]}'\"\n",
    "if len(base_version_published_at['published_at']) > 0:\n",
    "    base_query += f\" and published_at >= '{base_version_published_at['published_at'][0]}'\"\n",
    "\n",
    "releases = pl.from_pandas(db.run_query(base_query))"
   ]
  },
  {
   "cell_type": "code",
   "execution_count": 10,
   "metadata": {},
   "outputs": [
    {
     "data": {
      "text/plain": [
       "'Deprecations- Add `Series.extend` (#9901)- Deprecate functions series input (#9878)'"
      ]
     },
     "execution_count": 10,
     "metadata": {},
     "output_type": "execute_result"
    }
   ],
   "source": [
    "# Extracting deprecations and breaking changes\n",
    "import re\n",
    "def extract_deprecation_str(msg: str) -> str:\n",
    "    deprecations_pattern = r'Deprecations.*?(?=## [^\\r\\n]+)'\n",
    "    deprecations = re.search(deprecations_pattern, msg, re.DOTALL)\n",
    "    if deprecations:\n",
    "        return deprecations.group(0)\n",
    "\n",
    "def extract_breaking_changes_str(msg: str) -> str:\n",
    "    breaking_changes_pattern = r'Breaking.*?(?=##|$)'\n",
    "    breaking_changes = re.search(breaking_changes_pattern, msg, re.DOTALL)\n",
    "    if breaking_changes:\n",
    "        return breaking_changes.group(0)\n",
    "\n",
    "extract_deprecation_str( releases['body'][6].replace('\\n', '').replace('\\r', ''))"
   ]
  },
  {
   "cell_type": "code",
   "execution_count": 11,
   "metadata": {},
   "outputs": [
    {
     "data": {
      "text/plain": [
       "'Deprecations\\r\\n\\r\\n- Deprecate behavior of list/tuple inputs for `lit` (#10461)\\r\\n\\r\\n-Deprecations\\r\\n\\r\\n- Rename `LazyFrame.read/write_json` to `de/serialize` (#10238)\\r\\n- Add `categorical_as_str` parameter to testing utils (#10350)\\r\\n\\r\\n-Deprecations\\r\\n\\r\\n- renaming `approx_unique` as `approx_n_unique` (#10290)\\r\\n- Rename first `qcut` parameter to `quantiles` (#10253)\\r\\n- Deprecate `avg` alias for `mean` (#10236)\\r\\n\\r\\n-Deprecations\\r\\n\\r\\n- Add `Series.extend` (#9901)\\r\\n- Deprecate functions series input (#9878)\\r\\n\\r\\n-Deprecations\\r\\n\\r\\n- Add `disable_string_cache` (#11020)\\r\\n\\r\\n-Deprecations\\r\\n\\r\\n- Rename `is_first/last` to `is_first/last_distinct` (Title and body: depr(python, rust!): Rename `is_first/last` to `is_first/last_distinct` )\\r\\n- Rename `count_match` to `count_matches` (Title and body: depr(python, rust!): Rename `count_match` to `count_matches` )\\r\\n- Rename `strip` to `strip_chars` (Title and body: depr(python, rust!): Rename `strip` to `strip_chars` )\\r\\n- Add `datetime_range` expression function (Title and body: feat: Add `datetime_range` expression function )\\r\\n\\r\\n-Deprecations\\r\\n\\r\\n- Rename `Expr.is_not()` to `not_()` (Title and body: depr(python,rust!): Rename `Expr.is_not()` to `not_()` )\\r\\n\\r\\n-Deprecations\\r\\n\\r\\n- Rename `map` to `map_batches` (#10801)\\r\\n- Rename `GroupBy.apply` to `map_groups` (#10799)\\r\\n- Rename `DataFrame.apply` to `map_rows` (#10797)\\r\\n- Rename `Series/Expr.rolling_apply` to `rolling_map` (#10750)\\r\\n- Rename `Series/Expr.apply` to `map_elements` (#10678)\\r\\n- Rename `groupby` to `group_by` (Title and body: depr(python): Rename `groupby` to `group_by` )\\r\\n- Deprecate some parameters of `cut`/`qcut` (#10484)\\r\\n\\r\\n'"
      ]
     },
     "execution_count": 11,
     "metadata": {},
     "output_type": "execute_result"
    }
   ],
   "source": [
    "releases['body'].map_elements(lambda x: extract_deprecation_str(x)).str.concat()[0]"
   ]
  },
  {
   "cell_type": "code",
   "execution_count": 12,
   "metadata": {},
   "outputs": [
    {
     "data": {
      "text/plain": [
       "'Breaking changes\\r\\n\\r\\n- propagate null in equality comparisons (#9053)\\r\\n- formalize implode -> explode relation (#9038)\\r\\n- Drop subclassing support for `DataFrame`/`LazyFrame` (#9008)\\r\\n- consistently return list of date/datetime from lazy date\\\\_range (#8513)\\r\\n- Default `date_range`/`ones`/`zeros` to `eager=False` (#9007)\\r\\n- Rename list namespace accesor from `.arr` to `.list` (#8999)\\r\\n- disallow time zones other than those in zoneinfo.available\\\\_timezones() (#8993)\\r\\n- remove window expression magic (#8992)\\r\\n- raise error when sorted flag not set (#8994)\\r\\n- Drop subclassing support for GroupBy (#7746)\\r\\n- in Series constructor, if inputs are time-zone-aware datetimes, convert to UTC (#8881)\\r\\n- parse offset-naive date time strings as Timestamp(time\\\\_unit), offset-aware datetime strings as Timestamp(time\\\\_unit, \"UTC\"), and remove the utc argument (#8714)\\r\\n- Remove deprecated tz\\\\_aware argument (#8696)\\r\\n\\r\\n-Breaking changes\\r\\n\\r\\n- Update `Expr.sample` signature and change random seeding (#4648)\\r\\n- rollup breaking changes (#5602)\\r\\n- iso weekday (#5598)\\r\\n- Change `null_equal` default to `True` for `Series.series_equal` (#5051)\\r\\n- rollup breaking changes (#5602)\\r\\n\\r\\n-Breaking changes\\r\\n\\r\\n- rename some function arguments (#8017)\\r\\n- don\\'t create duplicate pivot names (#8002)\\r\\n- Remove deprecated behaviour (#7978)\\r\\n- rename `toggle_string_cache` to `enable_string_cache` (#7970)\\r\\n- change top\\\\_k(descending) -> bottom\\\\_k (#7969)\\r\\n- in `sort`, `top_k`, `sort_by`, and `arg_sort_by`, raise if `descending` is a sequence and its length doesn\\'t match the number of columns to sort by (#7957)\\r\\n- Use RowsError instead of RowsException as recommended … (#6009)\\r\\n- Use `time_unit`/`time_zone` instead of `tu`/`tz` (#7910)\\r\\n- More ergonomic args for `struct`, `concat_str`, and `arg_sort_by` (#7308)\\r\\n- swap arguments of `shift_and_fill` and add default… (#7192)\\r\\n- set maintain\\\\_order=False for df/lf.unique (#7468)\\r\\n- Rename pipe arg `func` to `function` (#7139)\\r\\n- Set some args for `Series`/`Expr` methods to keyword-only (#7860)\\r\\n\\r\\n-Breaking changes\\r\\n\\r\\n- error on string \\\\<-> date cmp (#6498)\\r\\n- Formalize list aggregation difference between groupbys, selection and window functions (#6487)\\r\\n- show where error messages originated (#6482)\\r\\n- Remove deprecated paths from `Series.__getitem__` (#6048)\\r\\n- change behaviour of named rows (#6302)\\r\\n- Remove deprecated `read/write_json` arguments (#5990)\\r\\n- make `schema`, `schema_overrides`, and `orient` consistent on all user-facing interfaces (#6387)\\r\\n- Groupby iteration now returns tuples of (name, data) (#6350)\\r\\n- Remove `Groupby.pivot` (#6016)\\r\\n- Remove deprecated argument aliases (#5993)\\r\\n- Change `Series.shuffle` default behaviour (#5991)\\r\\n- Change `Expr.is_between` default behaviour (#5985)\\r\\n- Restrict certain function parameters to be keyword-only (#6464)\\r\\n\\r\\n-Breaking changes\\r\\n- empty product returns identity and product ignores nulls (Title and body: fix!: empty product returns identity )\\r\\n\\r\\n-Breaking changes\\r\\n\\r\\n- return `f64` for `rank` when `method=\"average\"` (Title and body: fix(rust, python)!: return `f64` for `rank` when `method=\"average\"` )\\r\\n- Update a lot of error types (Title and body: feat(python)!: Update a lot of error types )\\r\\n- Remove deprecated behavior from vertical aggregations (Title and body: feat(python)!: Remove deprecated behavior from vertical aggregations )\\r\\n- Read/write support for IPC streams in DataFrames (Title and body: feat(python, rust!): Read/write support for IPC streams in DataFrames )\\r\\n- Change behavior of `all` - fix Kleene logic implementation for `all`/`any` (Title and body: feat!: Change behavior of `all` - fix Kleene logic implementation for `all`/`any` )\\r\\n- Improve consistency of parsing expression input (Title and body: feat(python)!: Improve consistency of parsing expression input )\\r\\n- allow `from_arrow` to take a generator of RecordBatches, change error type to `TypeError` (Title and body: feat(python)!: allow `from_arrow` to take a generator of RecordBatches, change error type to `TypeError` )\\r\\n- remove fixed\\\\_seed and add pl.set\\\\_random\\\\_seed (#10388)\\r\\n- Make `arange` an alias for `int_range` (#9983)\\r\\n- `date_range`/`time_range` no longer return a `List` type (#10526)\\r\\n- Remove various functionalities deprecated before `0.18` (#10527)\\r\\n- Improve some error types and messages (#10470)\\r\\n\\r\\n'"
      ]
     },
     "execution_count": 12,
     "metadata": {},
     "output_type": "execute_result"
    }
   ],
   "source": [
    "releases['body'].map_elements(lambda x: extract_breaking_changes_str(x)).str.concat()[0]"
   ]
  },
  {
   "cell_type": "code",
   "execution_count": null,
   "metadata": {},
   "outputs": [],
   "source": []
  }
 ],
 "metadata": {
  "kernelspec": {
   "display_name": ".venv",
   "language": "python",
   "name": "python3"
  },
  "language_info": {
   "codemirror_mode": {
    "name": "ipython",
    "version": 3
   },
   "file_extension": ".py",
   "mimetype": "text/x-python",
   "name": "python",
   "nbconvert_exporter": "python",
   "pygments_lexer": "ipython3",
   "version": "3.10.13"
  }
 },
 "nbformat": 4,
 "nbformat_minor": 2
}
